{
 "cells": [
  {
   "cell_type": "markdown",
   "id": "a94576a1",
   "metadata": {},
   "source": [
    "# `boohft-calib` launcher for SWAN\n",
    "\n",
    "This notebook runs the example configuration card on SWAN."
   ]
  },
  {
   "cell_type": "code",
   "execution_count": null,
   "id": "59fe1546",
   "metadata": {},
   "outputs": [],
   "source": [
    "import os\n",
    "import sys\n",
    "assert sys.executable == '/cvmfs/sft.cern.ch/lcg/views/LCG_96python3/x86_64-centos7-gcc8-opt/bin/python3', \\\n",
    "    \"Please start a SWAN session with LCG96 Python3 stack\"\n",
    "sys.path.insert(0, os.path.join(os.environ['HOME'], '.local/lib/python3.6/site-packages'))"
   ]
  },
  {
   "cell_type": "code",
   "execution_count": null,
   "id": "2f4274ed",
   "metadata": {
    "scrolled": true
   },
   "outputs": [],
   "source": [
    "# Install additional packages\n",
    "!pip install coffea --user --upgrade\n",
    "!pip install numexpr scipy --user --upgrade\n",
    "!pip install lz4 xxhash --user"
   ]
  },
  {
   "cell_type": "code",
   "execution_count": null,
   "id": "e053a9b2",
   "metadata": {
    "scrolled": true
   },
   "outputs": [],
   "source": [
    "from launcher import launch\n",
    "\n",
    "# Launch all steps\n",
    "launch('cards/example_bb_PNetXbbVsQCD.yml')"
   ]
  }
 ],
 "metadata": {
  "kernelspec": {
   "display_name": "Python 3",
   "language": "python",
   "name": "python3"
  },
  "language_info": {
   "codemirror_mode": {
    "name": "ipython",
    "version": 3
   },
   "file_extension": ".py",
   "mimetype": "text/x-python",
   "name": "python",
   "nbconvert_exporter": "python",
   "pygments_lexer": "ipython3",
   "version": "3.6.5"
  }
 },
 "nbformat": 4,
 "nbformat_minor": 5
}
