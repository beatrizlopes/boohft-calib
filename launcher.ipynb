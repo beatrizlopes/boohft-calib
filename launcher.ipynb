{
 "cells": [
  {
   "cell_type": "code",
   "execution_count": null,
   "metadata": {},
   "outputs": [],
   "source": [
    "from launcher import launch\n",
    "\n",
    "# Launch all steps\n",
    "launch('cards/config_bb_PNetXbbVsQCD.yml')"
   ]
  }
 ],
 "metadata": {
  "interpreter": {
   "hash": "d13a50e9e9f2de82af8f8a7142a5fccfff8ac22191cd0b794b38ee61e701d922"
  },
  "kernelspec": {
   "display_name": "Python 3.8.5 64-bit ('base': conda)",
   "language": "python",
   "name": "python3"
  },
  "language_info": {
   "codemirror_mode": {
    "name": "ipython",
    "version": 3
   },
   "file_extension": ".py",
   "mimetype": "text/x-python",
   "name": "python",
   "nbconvert_exporter": "python",
   "pygments_lexer": "ipython3",
   "version": "3.8.5"
  },
  "orig_nbformat": 4
 },
 "nbformat": 4,
 "nbformat_minor": 2
}
